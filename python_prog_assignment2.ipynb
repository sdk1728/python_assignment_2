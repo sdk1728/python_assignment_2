{
 "cells": [
  {
   "cell_type": "markdown",
   "id": "43a76dcd",
   "metadata": {},
   "source": [
    "## 1.\tWrite a Python program to convert kilometers to miles?"
   ]
  },
  {
   "cell_type": "code",
   "execution_count": 4,
   "id": "8d4cb361",
   "metadata": {},
   "outputs": [
    {
     "name": "stdout",
     "output_type": "stream",
     "text": [
      "kms = 7\n",
      "miles=  4.3469999999999995\n"
     ]
    }
   ],
   "source": [
    "a=int(input(\"kms = \"))\n",
    "b=a*0.621\n",
    "print(\"miles= \",b)\n",
    "\n"
   ]
  },
  {
   "cell_type": "markdown",
   "id": "51e72fac",
   "metadata": {},
   "source": [
    "## 2.\tWrite a Python program to convert Celsius to Fahrenheit?"
   ]
  },
  {
   "cell_type": "code",
   "execution_count": 15,
   "id": "c1a8c446",
   "metadata": {},
   "outputs": [
    {
     "name": "stdout",
     "output_type": "stream",
     "text": [
      "celsius = 7\n",
      "fahrenheit =  236.59999999999997\n"
     ]
    }
   ],
   "source": [
    "a=int(input(\"celsius = \"))\n",
    "b= a*33.8\n",
    "print(\"fahrenheit = \",b )"
   ]
  },
  {
   "cell_type": "markdown",
   "id": "70fdb0b7",
   "metadata": {},
   "source": [
    "## 3.\tWrite a Python program to display calendar?\n"
   ]
  },
  {
   "cell_type": "code",
   "execution_count": 20,
   "id": "3cf8c87f",
   "metadata": {},
   "outputs": [
    {
     "name": "stdout",
     "output_type": "stream",
     "text": [
      "      May 2022\n",
      "Mo Tu We Th Fr Sa Su\n",
      "                   1\n",
      " 2  3  4  5  6  7  8\n",
      " 9 10 11 12 13 14 15\n",
      "16 17 18 19 20 21 22\n",
      "23 24 25 26 27 28 29\n",
      "30 31\n",
      "\n"
     ]
    }
   ],
   "source": [
    "import calendar\n",
    "yy=2022\n",
    "mm=5\n",
    "\n",
    "print(calendar.month(yy,mm))\n",
    "\n",
    "\n",
    "    "
   ]
  },
  {
   "cell_type": "markdown",
   "id": "d63c3c3d",
   "metadata": {},
   "source": [
    "## 4.\tWrite a Python program to solve quadratic equation?"
   ]
  },
  {
   "cell_type": "code",
   "execution_count": 5,
   "id": "72d1deb5",
   "metadata": {},
   "outputs": [
    {
     "name": "stdout",
     "output_type": "stream",
     "text": [
      "please enter the value of a = 2\n",
      "please enter the value of b= 5\n",
      "please enter the value of c= 7\n",
      "the solutions are (-1.25-1.3919410907075054j) and (-1.25+1.3919410907075054j)\n"
     ]
    }
   ],
   "source": [
    "import cmath\n",
    "\n",
    "a=int(input(\"please enter the value of a = \"))\n",
    "b=int(input(\"please enter the value of b= \"))\n",
    "c=int(input(\"please enter the value of c= \"))\n",
    "\n",
    "d=(b**2)-(4*a*c)\n",
    "\n",
    "sol1= (-b-cmath.sqrt(d))/(2*a)\n",
    "sol2= (-b+cmath.sqrt(d))/(2*a)\n",
    "\n",
    "print('the solutions are {} and {}'.format (sol1,sol2))"
   ]
  },
  {
   "cell_type": "markdown",
   "id": "ebf2c0a5",
   "metadata": {},
   "source": [
    "## 5.\tWrite a Python program to swap two variables without temp variable?"
   ]
  },
  {
   "cell_type": "code",
   "execution_count": 4,
   "id": "1e9daecd",
   "metadata": {},
   "outputs": [
    {
     "name": "stdout",
     "output_type": "stream",
     "text": [
      "value of a: 3443\n",
      "value of b: 1233\n"
     ]
    }
   ],
   "source": [
    "a= 1233\n",
    "b=3443\n",
    "\n",
    "a,b=b,a\n",
    "print(\"value of a:\", a)\n",
    "print(\"value of b:\",b)"
   ]
  },
  {
   "cell_type": "code",
   "execution_count": null,
   "id": "5da19604",
   "metadata": {},
   "outputs": [],
   "source": []
  }
 ],
 "metadata": {
  "kernelspec": {
   "display_name": "Python 3 (ipykernel)",
   "language": "python",
   "name": "python3"
  },
  "language_info": {
   "codemirror_mode": {
    "name": "ipython",
    "version": 3
   },
   "file_extension": ".py",
   "mimetype": "text/x-python",
   "name": "python",
   "nbconvert_exporter": "python",
   "pygments_lexer": "ipython3",
   "version": "3.9.7"
  }
 },
 "nbformat": 4,
 "nbformat_minor": 5
}
